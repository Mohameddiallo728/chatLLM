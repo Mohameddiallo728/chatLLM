{
 "cells": [
  {
   "cell_type": "code",
   "execution_count": 20,
   "metadata": {},
   "outputs": [],
   "source": [
    "from langchain.llms import Ollama\n",
    "from langchain_community.document_loaders import PyMuPDFLoader\n",
    "from langchain.text_splitter import RecursiveCharacterTextSplitter\n",
    "from langchain.embeddings import HuggingFaceEmbeddings\n",
    "from langchain.vectorstores import Chroma\n",
    "from langchain_core.prompts import ChatPromptTemplate\n",
    "import os\n",
    "import pickle\n",
    "import warnings\n",
    "warnings.filterwarnings('ignore')"
   ]
  },
  {
   "cell_type": "code",
   "execution_count": 2,
   "metadata": {},
   "outputs": [],
   "source": [
    "# Initialize model mistral\n",
    "model = Ollama(model=\"mistral_copy\")"
   ]
  },
  {
   "cell_type": "code",
   "execution_count": 3,
   "metadata": {},
   "outputs": [],
   "source": [
    "pdf_path = \"/home/mohamed/Documents/Mohamed/Mohamed_DIALLO_CV.pdf\""
   ]
  },
  {
   "cell_type": "code",
   "execution_count": 4,
   "metadata": {},
   "outputs": [],
   "source": [
    "loader = PyMuPDFLoader(pdf_path)\n",
    "doc = loader.load()"
   ]
  },
  {
   "cell_type": "code",
   "execution_count": 5,
   "metadata": {},
   "outputs": [],
   "source": [
    "# Définir les séparateurs pour le découpage du texte\n",
    "separators = [\n",
    "        \"\\n\\n\",\n",
    "        \"\\n\",\n",
    "        \" \",\n",
    "        \".\",\n",
    "        \",\",\n",
    "        \"\\u200b\",  # Zero-width space\n",
    "        \"\\uff0c\",  # Fullwidth comma\n",
    "        \"\\u3001\",  # Ideographic comma\n",
    "        \"\\uff0e\",  # Fullwidth full stop\n",
    "        \"\\u3002\",  # Ideographic full stop\n",
    "        \"\",\n",
    "]"
   ]
  },
  {
   "cell_type": "code",
   "execution_count": 6,
   "metadata": {},
   "outputs": [],
   "source": [
    "# Initialiser le découpeur de texte avec les paramètres spécifiés\n",
    "text_splitter = RecursiveCharacterTextSplitter(\n",
    "    separators=separators,\n",
    "    chunk_size=300, # Taille de chaque chunk en caractères\n",
    "    chunk_overlap=50, # Chevauchement entre les chunks consécutifs (réduit pour moins de chunks)\n",
    "    length_function=len, # Fonction pour calculer la longueur du texte\n",
    "    add_start_index=True, # Ajouter l'index de début à chaque chunk\n",
    ")"
   ]
  },
  {
   "cell_type": "code",
   "execution_count": 7,
   "metadata": {},
   "outputs": [
    {
     "name": "stdout",
     "output_type": "stream",
     "text": [
      "Split 2 documents into 13 chunks.\n"
     ]
    }
   ],
   "source": [
    "\n",
    "chunks = text_splitter.split_documents(doc)\n",
    "print(f\"Split {len(doc)} documents into {len(chunks)} chunks.\")"
   ]
  },
  {
   "cell_type": "code",
   "execution_count": 8,
   "metadata": {},
   "outputs": [
    {
     "name": "stdout",
     "output_type": "stream",
     "text": [
      "Kalaban Coura ACI, Bamako, Rue 418 \n",
      "Tel : +223 62 09 21 57 \n",
      "Email : mohameddiallo728@gmail.com \n",
      "MOHAMED DIALLO \n",
      "Maîtrisant des outils tels que MySQL, PostgreSQL, je suis capable de façonner et d'optimiser des bases de données\n",
      "{'source': '/home/mohamed/Documents/Mohamed/Mohamed_DIALLO_CV.pdf', 'file_path': '/home/mohamed/Documents/Mohamed/Mohamed_DIALLO_CV.pdf', 'page': 0, 'total_pages': 2, 'format': 'PDF 1.7', 'title': '', 'author': 'Mohamed DIALLO', 'subject': '', 'keywords': '', 'creator': 'Microsoft® Word 2019', 'producer': 'Microsoft® Word 2019', 'creationDate': \"D:20240216080534+00'00'\", 'modDate': \"D:20240216080534+00'00'\", 'trapped': '', 'start_index': 0}\n"
     ]
    }
   ],
   "source": [
    "# Afficher un exemple de contenu de page et de métadonnées pour un chunk\n",
    "page = chunks[0]\n",
    "print(page.page_content)\n",
    "print(page.metadata)"
   ]
  },
  {
   "cell_type": "code",
   "execution_count": 9,
   "metadata": {},
   "outputs": [],
   "source": [
    "# Chemin vers le répertoire pour enregistrer la base de données Chroma\n",
    "CHROMA_PATH = \"embdb\"\n",
    "EMB_CACHE_PATH = \"emb_cache.pkl\""
   ]
  },
  {
   "cell_type": "code",
   "execution_count": 10,
   "metadata": {},
   "outputs": [
    {
     "name": "stderr",
     "output_type": "stream",
     "text": [
      "/home/mohamed/envpy/lib/python3.12/site-packages/langchain_core/_api/deprecation.py:139: LangChainDeprecationWarning: The class `HuggingFaceEmbeddings` was deprecated in LangChain 0.2.2 and will be removed in 0.3.0. An updated version of the class exists in the langchain-huggingface package and should be used instead. To use it run `pip install -U langchain-huggingface` and import as `from langchain_huggingface import HuggingFaceEmbeddings`.\n",
      "  warn_deprecated(\n",
      "/home/mohamed/envpy/lib/python3.12/site-packages/sentence_transformers/cross_encoder/CrossEncoder.py:11: TqdmWarning: IProgress not found. Please update jupyter and ipywidgets. See https://ipywidgets.readthedocs.io/en/stable/user_install.html\n",
      "  from tqdm.autonotebook import tqdm, trange\n",
      "2024-07-25 16:48:14.322712: I tensorflow/core/util/port.cc:153] oneDNN custom operations are on. You may see slightly different numerical results due to floating-point round-off errors from different computation orders. To turn them off, set the environment variable `TF_ENABLE_ONEDNN_OPTS=0`.\n",
      "2024-07-25 16:48:14.541695: E external/local_xla/xla/stream_executor/cuda/cuda_fft.cc:485] Unable to register cuFFT factory: Attempting to register factory for plugin cuFFT when one has already been registered\n",
      "2024-07-25 16:48:14.647632: E external/local_xla/xla/stream_executor/cuda/cuda_dnn.cc:8454] Unable to register cuDNN factory: Attempting to register factory for plugin cuDNN when one has already been registered\n",
      "2024-07-25 16:48:14.694717: E external/local_xla/xla/stream_executor/cuda/cuda_blas.cc:1452] Unable to register cuBLAS factory: Attempting to register factory for plugin cuBLAS when one has already been registered\n",
      "2024-07-25 16:48:14.866776: I tensorflow/core/platform/cpu_feature_guard.cc:210] This TensorFlow binary is optimized to use available CPU instructions in performance-critical operations.\n",
      "To enable the following instructions: AVX2 AVX512F AVX512_VNNI FMA, in other operations, rebuild TensorFlow with the appropriate compiler flags.\n",
      "2024-07-25 16:48:17.511795: W tensorflow/compiler/tf2tensorrt/utils/py_utils.cc:38] TF-TRT Warning: Could not find TensorRT\n"
     ]
    }
   ],
   "source": [
    "# Récupérer la fonction d'embeddings à partir des ressources du code env\n",
    "emb_model = \"sentence-transformers/all-MiniLM-L6-v2\"\n",
    "embeddings = HuggingFaceEmbeddings(model_name=emb_model)"
   ]
  },
  {
   "cell_type": "code",
   "execution_count": 16,
   "metadata": {},
   "outputs": [],
   "source": [
    "# Charger les embeddings depuis le cache ou les générer si le cache n'existe pas\n",
    "if os.path.exists(EMB_CACHE_PATH):\n",
    "    with open(EMB_CACHE_PATH, 'rb') as f:\n",
    "        cached_embeddings = pickle.load(f)\n",
    "else:\n",
    "    # Générer les embeddings pour chaque chunk\n",
    "    cached_embeddings = embeddings.embed_documents([chunk.page_content for chunk in chunks])\n",
    "    with open(EMB_CACHE_PATH, 'wb') as f:\n",
    "        pickle.dump(cached_embeddings, f)"
   ]
  },
  {
   "cell_type": "code",
   "execution_count": 26,
   "metadata": {},
   "outputs": [
    {
     "data": {
      "text/plain": [
       "['3d27d286-20a3-4c72-a32f-c7061c9ced4f',\n",
       " '35411716-7281-4414-9fba-1e749f94ca25',\n",
       " '76ec560e-aae2-4403-8322-95ebff47076d',\n",
       " '61652b31-285e-4cb1-b743-6d75e3ecc685',\n",
       " '5bf65004-e650-4e69-b23f-4636961b32b6',\n",
       " '81e9a912-d5bf-47e5-bf6a-c8daa6dc8d7c',\n",
       " 'cedf7036-58de-46cb-8ca0-a6a944e4add8',\n",
       " '7229ce9b-9eb2-45ea-872f-1e9e2c2d3bde',\n",
       " 'f6183037-2962-460b-baa3-dfc8f80d6a31',\n",
       " '5dc78727-39bf-4177-85e1-efc51d27bd1a',\n",
       " '38849445-453b-47f3-b686-0ea4b7069a63',\n",
       " '1adce40c-88bb-4a63-8c7e-236a99035115',\n",
       " '3e8622d8-aa45-4e9b-986f-d5eb7e1a1c72']"
      ]
     },
     "execution_count": 26,
     "metadata": {},
     "output_type": "execute_result"
    }
   ],
   "source": [
    "# Créer une nouvelle base de données Chroma et ajouter les documents\n",
    "db = Chroma(persist_directory=CHROMA_PATH, embedding_function=embeddings)\n",
    "db.add_documents(documents=chunks)"
   ]
  },
  {
   "cell_type": "code",
   "execution_count": 27,
   "metadata": {},
   "outputs": [
    {
     "name": "stdout",
     "output_type": "stream",
     "text": [
      "Enregistrement de 13 chunks dans embdb.\n"
     ]
    },
    {
     "name": "stderr",
     "output_type": "stream",
     "text": [
      "/home/mohamed/envpy/lib/python3.12/site-packages/langchain_core/_api/deprecation.py:139: LangChainDeprecationWarning: Since Chroma 0.4.x the manual persistence method is no longer supported as docs are automatically persisted.\n",
      "  warn_deprecated(\n"
     ]
    }
   ],
   "source": [
    "# Persister la base de données sur le disque\n",
    "db.persist()\n",
    "print(f\"Enregistrement de {len(chunks)} chunks dans {CHROMA_PATH}.\")"
   ]
  },
  {
   "cell_type": "code",
   "execution_count": 29,
   "metadata": {},
   "outputs": [],
   "source": [
    "query_text = \"Quelles competences Mohamed possède t'il ?\""
   ]
  },
  {
   "cell_type": "code",
   "execution_count": 30,
   "metadata": {},
   "outputs": [],
   "source": [
    "PROMPT_TEMPLATE = \"\"\"\n",
    "Tu t'appelles Okka.\n",
    "Tu es un assistant en intelligence artificielle conçu pour aider les utilisateurs en récupérant des informations pertinentes et en générant des réponses basées sur ces informations. \n",
    "Ton objectif est de fournir des réponses claires et utiles.\n",
    "\n",
    "L'utilisateur a posé la question suivante : \"{question}\"\n",
    "Recherche des documents pertinents dans la base de connaissances et utilise ces informations pour répondre à la question.\n",
    "\n",
    "Réponds à la question en utilisant uniquement le contexte suivant :\n",
    "{context}\n",
    "- -\n",
    "Réponds à la question ci-dessous en te basant uniquement sur le contexte fourni, dans la même langue que la question :\n",
    "Question : {question}\n",
    "\"\"\""
   ]
  },
  {
   "cell_type": "code",
   "execution_count": 48,
   "metadata": {},
   "outputs": [
    {
     "name": "stderr",
     "output_type": "stream",
     "text": [
      "/home/mohamed/envpy/lib/python3.12/site-packages/langchain_core/vectorstores/base.py:784: UserWarning: Relevance scores must be between 0 and 1, got [(Document(metadata={'author': 'Mohamed DIALLO', 'creationDate': \"D:20240216080534+00'00'\", 'creator': 'Microsoft® Word 2019', 'file_path': '/home/mohamed/Documents/Mohamed/Mohamed_DIALLO_CV.pdf', 'format': 'PDF 1.7', 'keywords': '', 'modDate': \"D:20240216080534+00'00'\", 'page': 0, 'producer': 'Microsoft® Word 2019', 'source': '/home/mohamed/Documents/Mohamed/Mohamed_DIALLO_CV.pdf', 'start_index': 227, 'subject': '', 'title': '', 'total_pages': 2, 'trapped': ''}, page_content=\"pour répondre aux exigences spécifiques de chaque projet. Mon expertise s'étend également à une gamme diversifiée \\nde langages de programmation, de PHP à Python, en passant par Java et bien d'autres, me permettant ainsi d'aborder \\nles défis de manière polyvalente. \\nEXPÉRIENCES\"), 0.023655544853531607), (Document(metadata={'author': 'Mohamed DIALLO', 'creationDate': \"D:20240216080534+00'00'\", 'creator': 'Microsoft® Word 2019', 'file_path': '/home/mohamed/Documents/Mohamed/Mohamed_DIALLO_CV.pdf', 'format': 'PDF 1.7', 'keywords': '', 'modDate': \"D:20240216080534+00'00'\", 'page': 0, 'producer': 'Microsoft® Word 2019', 'source': '/home/mohamed/Documents/Mohamed/Mohamed_DIALLO_CV.pdf', 'start_index': 1355, 'subject': '', 'title': '', 'total_pages': 2, 'trapped': ''}, page_content='15 Mars 2021 – 31 Janvier 2022 \\nStage de 11 mois au cours duquel j’ai eu à faire la rétro-ingénierie de leurs applications \\nd’administration de gestion des courses, des chauffeurs, des clients et des recouvrements. \\nDEVELOPPEUR BACKEND, FST (FACULTE DES SCIENCES ET TECHNIQUES)'), 0.02065037024444638), (Document(metadata={'author': 'Mohamed DIALLO', 'creationDate': \"D:20240216080534+00'00'\", 'creator': 'Microsoft® Word 2019', 'file_path': '/home/mohamed/Documents/Mohamed/Mohamed_DIALLO_CV.pdf', 'format': 'PDF 1.7', 'keywords': '', 'modDate': \"D:20240216080534+00'00'\", 'page': 1, 'producer': 'Microsoft® Word 2019', 'source': '/home/mohamed/Documents/Mohamed/Mohamed_DIALLO_CV.pdf', 'start_index': 393, 'subject': '', 'title': '', 'total_pages': 2, 'trapped': ''}, page_content='Octobre 2014 - Juin 2017 \\nObtention d’un baccalauréat scientifique dans la spécialité science exacte. \\nCOMPETENCES CLES  \\n \\nBASE DE DONNEES \\nMySQL, Postgresql, \\nLANGUAGE DE PROGRAMMATION ET FRAMEWORK \\nPHP, Java, SpringBoot, React.js, TypeScript, Python, Flask \\nOUTILS'), 0.007885030103757962), (Document(metadata={'author': 'Mohamed DIALLO', 'creationDate': \"D:20240216080534+00'00'\", 'creator': 'Microsoft® Word 2019', 'file_path': '/home/mohamed/Documents/Mohamed/Mohamed_DIALLO_CV.pdf', 'format': 'PDF 1.7', 'keywords': '', 'modDate': \"D:20240216080534+00'00'\", 'page': 0, 'producer': 'Microsoft® Word 2019', 'source': '/home/mohamed/Documents/Mohamed/Mohamed_DIALLO_CV.pdf', 'start_index': 0, 'subject': '', 'title': '', 'total_pages': 2, 'trapped': ''}, page_content=\"Kalaban Coura ACI, Bamako, Rue 418 \\nTel : +223 62 09 21 57 \\nEmail : mohameddiallo728@gmail.com \\nMOHAMED DIALLO \\nMaîtrisant des outils tels que MySQL, PostgreSQL, je suis capable de façonner et d'optimiser des bases de données\"), 0.003888858852857058), (Document(metadata={'author': 'Mohamed DIALLO', 'creationDate': \"D:20240216080534+00'00'\", 'creator': 'Microsoft® Word 2019', 'file_path': '/home/mohamed/Documents/Mohamed/Mohamed_DIALLO_CV.pdf', 'format': 'PDF 1.7', 'keywords': '', 'modDate': \"D:20240216080534+00'00'\", 'page': 0, 'producer': 'Microsoft® Word 2019', 'source': '/home/mohamed/Documents/Mohamed/Mohamed_DIALLO_CV.pdf', 'start_index': 958, 'subject': '', 'title': '', 'total_pages': 2, 'trapped': ''}, page_content='Amérique et Asie). \\nDEVELOPPEUR, AGL (AFRICA GLOBAL LOGISTICS) \\n01 Avril 2022 - 30 Juillet 2022 \\nStage de quatre (4) mois au cours duquel j’ai eu à mettre en place :  \\n- \\nUne Api de suivi des positions des GPS  \\n- \\nUne Api de Pointage pour l’entreprise  \\n-'), -0.013197905669445342)]\n",
      "  warnings.warn(\n"
     ]
    }
   ],
   "source": [
    " # Prepare the database\n",
    "db = Chroma(persist_directory=CHROMA_PATH, embedding_function=embeddings)\n",
    "  \n",
    "# Récupérer le contexte à partir de la DB en utilisant la recherche par similarité\n",
    "results = db.similarity_search_with_relevance_scores(query_text, k=5)"
   ]
  },
  {
   "cell_type": "code",
   "execution_count": 49,
   "metadata": {},
   "outputs": [
    {
     "name": "stdout",
     "output_type": "stream",
     "text": [
      "Impossible de trouver des résultats correspondants.\n"
     ]
    }
   ],
   "source": [
    "if len(results) == 0 or results[0][1] < 0.7:\n",
    "    print(f\"Impossible de trouver des résultats correspondants.\")\n",
    "else:\n",
    "    # Combiner le contexte des documents correspondants\n",
    "    context_text = \"\\n\\n - -\\n\\n\".join([doc.page_content for doc, _score in results])\n",
    "\n",
    "    # Créer un modèle de prompt en utilisant le contexte et le texte de la requête\n",
    "    prompt_template = ChatPromptTemplate.from_template(PROMPT_TEMPLATE)\n",
    "    prompt = prompt_template.format(context=context_text, question=query_text)\n",
    "\n",
    "    # Générer le texte de réponse en fonction du prompt\n",
    "    response_text = model.predict(prompt)\n",
    "\n",
    "    print(response_text)\n",
    "\n",
    "    # Obtenir les sources des documents correspondants\n",
    "    sources = [doc.metadata.get(\"source\", None) for doc, _score in results]\n",
    "\n",
    "    # Formater et retourner la réponse incluant le texte généré et les sources\n",
    "    formatted_response = f\"Response: {response_text}\\nSources: {sources}\"\n",
    "    print(formatted_response)"
   ]
  },
  {
   "cell_type": "code",
   "execution_count": 43,
   "metadata": {},
   "outputs": [],
   "source": [
    "# Combiner le contexte des documents correspondants\n",
    "context_text = \"\\n\\n - -\\n\\n\".join([doc.page_content for doc, _score in results])\n",
    "\n",
    " \n",
    "# Créer un modèle de prompt en utilisant le contexte et le texte de la requête\n",
    "prompt_template = ChatPromptTemplate.from_template(PROMPT_TEMPLATE)\n",
    "prompt = prompt_template.format(context=context_text, question=query_text)"
   ]
  },
  {
   "cell_type": "code",
   "execution_count": 45,
   "metadata": {},
   "outputs": [],
   "source": [
    "# Générer le texte de réponse en fonction du prompt\n",
    "response_text = model.invoke(prompt)"
   ]
  },
  {
   "cell_type": "code",
   "execution_count": 46,
   "metadata": {},
   "outputs": [],
   "source": [
    "# Obtenir les sources des documents correspondants\n",
    "sources = [doc.metadata.get(\"source\", None) for doc, _score in results]"
   ]
  },
  {
   "cell_type": "code",
   "execution_count": 47,
   "metadata": {},
   "outputs": [
    {
     "name": "stdout",
     "output_type": "stream",
     "text": [
      "Response:  Mohamed possède des compétences en base de données, notamment MySQL et PostgreSQL. Il est également expérimenté dans une gamme variée de langages de programmation allant de PHP à Python en passant par Java et React.js. Son profil technique comprend également TypeScript, SpringBoot et Flask.\n",
      "Sources: ['/home/mohamed/Documents/Mohamed/Mohamed_DIALLO_CV.pdf', '/home/mohamed/Documents/Mohamed/Mohamed_DIALLO_CV.pdf', '/home/mohamed/Documents/Mohamed/Mohamed_DIALLO_CV.pdf']\n"
     ]
    }
   ],
   "source": [
    "# Formater et retourner la réponse incluant le texte généré et les sources\n",
    "formatted_response = f\"Response: {response_text}\\nSources: {sources}\"\n",
    "\n",
    "print(formatted_response)"
   ]
  }
 ],
 "metadata": {
  "kernelspec": {
   "display_name": "envpy",
   "language": "python",
   "name": "python3"
  },
  "language_info": {
   "codemirror_mode": {
    "name": "ipython",
    "version": 3
   },
   "file_extension": ".py",
   "mimetype": "text/x-python",
   "name": "python",
   "nbconvert_exporter": "python",
   "pygments_lexer": "ipython3",
   "version": "3.12.3"
  }
 },
 "nbformat": 4,
 "nbformat_minor": 2
}
